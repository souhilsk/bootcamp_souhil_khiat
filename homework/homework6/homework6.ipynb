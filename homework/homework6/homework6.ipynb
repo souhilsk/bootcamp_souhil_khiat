{
 "cells": [
  {
   "cell_type": "markdown",
   "metadata": {},
   "source": [
    "# Setup: Generate Sample Dataset\n",
    "\n",
    "This cell creates the required folder structure (`data/raw/` and `data/processed/`) relative to the notebook, and generates the sample CSV dataset with missing values. \n",
    "This ensures the dataset is ready for cleaning functions and saves it to `data/raw/sample_data.csv`."
   ]
  },
  {
   "cell_type": "code",
   "execution_count": 1,
   "metadata": {},
   "outputs": [
    {
     "name": "stdout",
     "output_type": "stream",
     "text": [
      "Project Root Directory: /Users/souhil/bootcamp_souhil_khiat/homework/homework6\n",
      "Ensuring directory exists: /Users/souhil/bootcamp_souhil_khiat/homework/homework6/data/raw\n",
      "Ensuring directory exists: /Users/souhil/bootcamp_souhil_khiat/homework/homework6/data/processed\n",
      "File already exists at /Users/souhil/bootcamp_souhil_khiat/homework/homework6/data/raw/sample_data.csv. Skipping CSV creation to avoid overwrite.\n"
     ]
    }
   ],
   "source": [
    "import os\n",
    "import pandas as pd\n",
    "import numpy as np\n",
    "\n",
    "# --- Define Project Structure ---\n",
    "# Get the current working directory (should be the project's root folder)\n",
    "project_root = os.getcwd()\n",
    "print(f\"Project Root Directory: {project_root}\")\n",
    "\n",
    "# Define folder paths using os.path.join for cross-platform compatibility\n",
    "raw_dir = os.path.join(project_root, 'data', 'raw')\n",
    "processed_dir = os.path.join(project_root, 'data', 'processed')\n",
    "\n",
    "# --- Create Folders if They Don't Exist ---\n",
    "print(f\"Ensuring directory exists: {raw_dir}\")\n",
    "os.makedirs(raw_dir, exist_ok=True)\n",
    "\n",
    "print(f\"Ensuring directory exists: {processed_dir}\")\n",
    "os.makedirs(processed_dir, exist_ok=True)\n",
    "\n",
    "# --- Generate Sample Dataset ---\n",
    "# Define the sample data\n",
    "data = {\n",
    "    'age': [34, 45, 29, 50, 38, np.nan, 41],\n",
    "    'income': [55000, np.nan, 42000, 58000, np.nan, np.nan, 49000],\n",
    "    'score': [0.82, 0.91, np.nan, 0.76, 0.88, 0.65, 0.79],\n",
    "    'zipcode': ['90210', '10001', '60614', '94103', '73301', '12345', '94105'],\n",
    "    'city': ['Beverly', 'New York', 'Chicago', 'SF', 'Austin', 'Unknown', 'San Francisco'],\n",
    "    'extra_data': [np.nan, 42, np.nan, np.nan, np.nan, 5, np.nan]\n",
    "}\n",
    "\n",
    "# Create DataFrame\n",
    "df = pd.DataFrame(data)\n",
    "\n",
    "# Define the full path for the output CSV file\n",
    "csv_path = os.path.join(raw_dir, 'sample_data.csv')\n",
    "\n",
    "# Save to CSV in raw data folder\n",
    "if not os.path.exists(csv_path):\n",
    "    df.to_csv(csv_path, index=False)\n",
    "    print(f'Sample dataset created and saved to {csv_path}')\n",
    "else:\n",
    "    print(f'File already exists at {csv_path}. Skipping CSV creation to avoid overwrite.')"
   ]
  },
  {
   "cell_type": "markdown",
   "metadata": {},
   "source": [
    "# Homework Starter — Stage 6: Data Preprocessing\n",
    "Use this notebook to apply your cleaning functions and save processed data."
   ]
  },
  {
   "cell_type": "code",
   "execution_count": 2,
   "metadata": {},
   "outputs": [],
   "source": [
    "import pandas as pd\n",
    "from src import cleaning"
   ]
  },
  {
   "cell_type": "markdown",
   "metadata": {},
   "source": [
    "## Load Raw Dataset"
   ]
  },
  {
   "cell_type": "code",
   "execution_count": 4,
   "metadata": {},
   "outputs": [
    {
     "data": {
      "text/html": [
       "<div>\n",
       "<style scoped>\n",
       "    .dataframe tbody tr th:only-of-type {\n",
       "        vertical-align: middle;\n",
       "    }\n",
       "\n",
       "    .dataframe tbody tr th {\n",
       "        vertical-align: top;\n",
       "    }\n",
       "\n",
       "    .dataframe thead th {\n",
       "        text-align: right;\n",
       "    }\n",
       "</style>\n",
       "<table border=\"1\" class=\"dataframe\">\n",
       "  <thead>\n",
       "    <tr style=\"text-align: right;\">\n",
       "      <th></th>\n",
       "      <th>age</th>\n",
       "      <th>income</th>\n",
       "      <th>score</th>\n",
       "      <th>zipcode</th>\n",
       "      <th>city</th>\n",
       "      <th>extra_data</th>\n",
       "    </tr>\n",
       "  </thead>\n",
       "  <tbody>\n",
       "    <tr>\n",
       "      <th>0</th>\n",
       "      <td>34.0</td>\n",
       "      <td>55000.0</td>\n",
       "      <td>0.82</td>\n",
       "      <td>90210</td>\n",
       "      <td>Beverly</td>\n",
       "      <td>NaN</td>\n",
       "    </tr>\n",
       "    <tr>\n",
       "      <th>1</th>\n",
       "      <td>45.0</td>\n",
       "      <td>NaN</td>\n",
       "      <td>0.91</td>\n",
       "      <td>10001</td>\n",
       "      <td>New York</td>\n",
       "      <td>42.0</td>\n",
       "    </tr>\n",
       "    <tr>\n",
       "      <th>2</th>\n",
       "      <td>29.0</td>\n",
       "      <td>42000.0</td>\n",
       "      <td>NaN</td>\n",
       "      <td>60614</td>\n",
       "      <td>Chicago</td>\n",
       "      <td>NaN</td>\n",
       "    </tr>\n",
       "    <tr>\n",
       "      <th>3</th>\n",
       "      <td>50.0</td>\n",
       "      <td>58000.0</td>\n",
       "      <td>0.76</td>\n",
       "      <td>94103</td>\n",
       "      <td>SF</td>\n",
       "      <td>NaN</td>\n",
       "    </tr>\n",
       "    <tr>\n",
       "      <th>4</th>\n",
       "      <td>38.0</td>\n",
       "      <td>NaN</td>\n",
       "      <td>0.88</td>\n",
       "      <td>73301</td>\n",
       "      <td>Austin</td>\n",
       "      <td>NaN</td>\n",
       "    </tr>\n",
       "  </tbody>\n",
       "</table>\n",
       "</div>"
      ],
      "text/plain": [
       "    age   income  score  zipcode      city  extra_data\n",
       "0  34.0  55000.0   0.82    90210   Beverly         NaN\n",
       "1  45.0      NaN   0.91    10001  New York        42.0\n",
       "2  29.0  42000.0    NaN    60614   Chicago         NaN\n",
       "3  50.0  58000.0   0.76    94103        SF         NaN\n",
       "4  38.0      NaN   0.88    73301    Austin         NaN"
      ]
     },
     "execution_count": 4,
     "metadata": {},
     "output_type": "execute_result"
    }
   ],
   "source": [
    "df = pd.read_csv('/Users/souhil/bootcamp_souhil_khiat/homework/homework6/data/raw/sample_data.csv')\n",
    "df.head()"
   ]
  },
  {
   "cell_type": "markdown",
   "metadata": {},
   "source": [
    "## Apply Cleaning Functions"
   ]
  },
  {
   "cell_type": "code",
   "execution_count": 5,
   "metadata": {},
   "outputs": [
    {
     "name": "stdout",
     "output_type": "stream",
     "text": [
      "Original Data Info:\n",
      "<class 'pandas.core.frame.DataFrame'>\n",
      "RangeIndex: 7 entries, 0 to 6\n",
      "Data columns (total 6 columns):\n",
      " #   Column      Non-Null Count  Dtype  \n",
      "---  ------      --------------  -----  \n",
      " 0   age         6 non-null      float64\n",
      " 1   income      4 non-null      float64\n",
      " 2   score       6 non-null      float64\n",
      " 3   zipcode     7 non-null      int64  \n",
      " 4   city        7 non-null      object \n",
      " 5   extra_data  2 non-null      float64\n",
      "dtypes: float64(4), int64(1), object(1)\n",
      "memory usage: 468.0+ bytes\n",
      "\n",
      "Missing values before cleaning:\n",
      "age           1\n",
      "income        3\n",
      "score         1\n",
      "zipcode       0\n",
      "city          0\n",
      "extra_data    5\n",
      "dtype: int64\n",
      "\n",
      "Original DataFrame head:\n",
      "    age   income  score  zipcode      city  extra_data\n",
      "0  34.0  55000.0   0.82    90210   Beverly         NaN\n",
      "1  45.0      NaN   0.91    10001  New York        42.0\n",
      "2  29.0  42000.0    NaN    60614   Chicago         NaN\n",
      "3  50.0  58000.0   0.76    94103        SF         NaN\n",
      "4  38.0      NaN   0.88    73301    Austin         NaN\n",
      "\n",
      "==================================================\n",
      "Cleaned Data Info:\n",
      "<class 'pandas.core.frame.DataFrame'>\n",
      "RangeIndex: 7 entries, 0 to 6\n",
      "Data columns (total 6 columns):\n",
      " #   Column      Non-Null Count  Dtype  \n",
      "---  ------      --------------  -----  \n",
      " 0   age         7 non-null      float64\n",
      " 1   income      7 non-null      float64\n",
      " 2   score       7 non-null      float64\n",
      " 3   zipcode     7 non-null      int64  \n",
      " 4   city        7 non-null      object \n",
      " 5   extra_data  2 non-null      float64\n",
      "dtypes: float64(4), int64(1), object(1)\n",
      "memory usage: 468.0+ bytes\n",
      "\n",
      "Missing values after cleaning:\n",
      "age           0\n",
      "income        0\n",
      "score         0\n",
      "zipcode       0\n",
      "city          0\n",
      "extra_data    5\n",
      "dtype: int64\n",
      "\n",
      "Cleaned DataFrame head:\n",
      "        age  income     score  zipcode      city  extra_data\n",
      "0  0.238095  0.8125  0.653846    90210   Beverly         NaN\n",
      "1  0.761905  0.6250  1.000000    10001  New York        42.0\n",
      "2  0.000000  0.0000  0.596154    60614   Chicago         NaN\n",
      "3  1.000000  1.0000  0.423077    94103        SF         NaN\n",
      "4  0.428571  0.6250  0.884615    73301    Austin         NaN\n"
     ]
    },
    {
     "name": "stderr",
     "output_type": "stream",
     "text": [
      "/Users/souhil/bootcamp_souhil_khiat/homework/homework6/src/cleaning.py:23: FutureWarning: A value is trying to be set on a copy of a DataFrame or Series through chained assignment using an inplace method.\n",
      "The behavior will change in pandas 3.0. This inplace method will never work because the intermediate object on which we are setting values always behaves as a copy.\n",
      "\n",
      "For example, when doing 'df[col].method(value, inplace=True)', try using 'df.method({col: value}, inplace=True)' or df[col] = df[col].method(value) instead, to perform the operation inplace on the original object.\n",
      "\n",
      "\n",
      "  df_copy[col].fillna(median_val, inplace=True)\n",
      "/Users/souhil/bootcamp_souhil_khiat/homework/homework6/src/cleaning.py:23: FutureWarning: A value is trying to be set on a copy of a DataFrame or Series through chained assignment using an inplace method.\n",
      "The behavior will change in pandas 3.0. This inplace method will never work because the intermediate object on which we are setting values always behaves as a copy.\n",
      "\n",
      "For example, when doing 'df[col].method(value, inplace=True)', try using 'df.method({col: value}, inplace=True)' or df[col] = df[col].method(value) instead, to perform the operation inplace on the original object.\n",
      "\n",
      "\n",
      "  df_copy[col].fillna(median_val, inplace=True)\n",
      "/Users/souhil/bootcamp_souhil_khiat/homework/homework6/src/cleaning.py:23: FutureWarning: A value is trying to be set on a copy of a DataFrame or Series through chained assignment using an inplace method.\n",
      "The behavior will change in pandas 3.0. This inplace method will never work because the intermediate object on which we are setting values always behaves as a copy.\n",
      "\n",
      "For example, when doing 'df[col].method(value, inplace=True)', try using 'df.method({col: value}, inplace=True)' or df[col] = df[col].method(value) instead, to perform the operation inplace on the original object.\n",
      "\n",
      "\n",
      "  df_copy[col].fillna(median_val, inplace=True)\n"
     ]
    }
   ],
   "source": [
    "# First, let's look at the raw data's state\n",
    "print(\"Original Data Info:\")\n",
    "df.info()\n",
    "print(\"\\nMissing values before cleaning:\")\n",
    "print(df.isna().sum())\n",
    "print(\"\\nOriginal DataFrame head:\")\n",
    "print(df.head())\n",
    "\n",
    "# --- Define our cleaning strategy ---\n",
    "# 1. Fill missing values for core numeric features. Median is robust to outliers.\n",
    "numeric_cols_to_fill = ['age', 'income', 'score']\n",
    "df_cleaned = cleaning.fill_missing_median(df, columns=numeric_cols_to_fill)\n",
    "\n",
    "# 2. Drop rows that are mostly empty. The 'extra_data' column makes some rows very sparse.\n",
    "# We'll set a threshold of 0.7, meaning we keep rows with at least 70% non-missing data.\n",
    "df_cleaned = cleaning.drop_missing(df_cleaned, threshold=0.7)\n",
    "\n",
    "# 3. Normalize numeric columns to a common scale (0-1) for potential modeling.\n",
    "numeric_cols_to_normalize = ['age', 'income', 'score']\n",
    "df_cleaned = cleaning.normalize_data(df_cleaned, columns=numeric_cols_to_normalize)\n",
    "\n",
    "\n",
    "# --- Validate the cleaned data ---\n",
    "print(\"\\n\" + \"=\"*50)\n",
    "print(\"Cleaned Data Info:\")\n",
    "df_cleaned.info()\n",
    "print(\"\\nMissing values after cleaning:\")\n",
    "print(df_cleaned.isna().sum())\n",
    "print(\"\\nCleaned DataFrame head:\")\n",
    "print(df_cleaned.head())"
   ]
  },
  {
   "cell_type": "markdown",
   "metadata": {},
   "source": [
    "## Save Cleaned Dataset"
   ]
  },
  {
   "cell_type": "code",
   "execution_count": 6,
   "metadata": {},
   "outputs": [
    {
     "name": "stdout",
     "output_type": "stream",
     "text": [
      "Cleaned data successfully saved to data/processed/sample_data_cleaned.csv\n"
     ]
    }
   ],
   "source": [
    "# Define the output path\n",
    "output_path = 'data/processed/sample_data_cleaned.csv'\n",
    "\n",
    "# Save the cleaned dataframe\n",
    "df_cleaned.to_csv(output_path, index=False)\n",
    "\n",
    "print(f\"Cleaned data successfully saved to {output_path}\")"
   ]
  },
  {
   "cell_type": "code",
   "execution_count": null,
   "metadata": {},
   "outputs": [],
   "source": []
  }
 ],
 "metadata": {
  "kernelspec": {
   "display_name": "Python 3 (ipykernel)",
   "language": "python",
   "name": "python3"
  },
  "language_info": {
   "codemirror_mode": {
    "name": "ipython",
    "version": 3
   },
   "file_extension": ".py",
   "mimetype": "text/x-python",
   "name": "python",
   "nbconvert_exporter": "python",
   "pygments_lexer": "ipython3",
   "version": "3.11.13"
  }
 },
 "nbformat": 4,
 "nbformat_minor": 4
}
