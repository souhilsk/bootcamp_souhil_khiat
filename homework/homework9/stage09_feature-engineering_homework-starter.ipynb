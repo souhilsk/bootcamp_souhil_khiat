{
 "cells": [
  {
   "cell_type": "markdown",
   "id": "91750b4b",
   "metadata": {},
   "source": [
    "# Stage 09 — Homework Starter Notebook\n",
    "\n",
    "In the lecture, we learned how to create engineered features. Now it’s your turn to apply those ideas to your own project data."
   ]
  },
  {
   "cell_type": "code",
   "execution_count": 28,
   "id": "be299ad3",
   "metadata": {},
   "outputs": [
    {
     "data": {
      "text/html": [
       "<div>\n",
       "<style scoped>\n",
       "    .dataframe tbody tr th:only-of-type {\n",
       "        vertical-align: middle;\n",
       "    }\n",
       "\n",
       "    .dataframe tbody tr th {\n",
       "        vertical-align: top;\n",
       "    }\n",
       "\n",
       "    .dataframe thead th {\n",
       "        text-align: right;\n",
       "    }\n",
       "</style>\n",
       "<table border=\"1\" class=\"dataframe\">\n",
       "  <thead>\n",
       "    <tr style=\"text-align: right;\">\n",
       "      <th></th>\n",
       "      <th>income</th>\n",
       "      <th>monthly_spend</th>\n",
       "      <th>credit_score</th>\n",
       "    </tr>\n",
       "  </thead>\n",
       "  <tbody>\n",
       "    <tr>\n",
       "      <th>0</th>\n",
       "      <td>86460</td>\n",
       "      <td>3129</td>\n",
       "      <td>661</td>\n",
       "    </tr>\n",
       "    <tr>\n",
       "      <th>1</th>\n",
       "      <td>66002</td>\n",
       "      <td>1191</td>\n",
       "      <td>668</td>\n",
       "    </tr>\n",
       "    <tr>\n",
       "      <th>2</th>\n",
       "      <td>74681</td>\n",
       "      <td>1237</td>\n",
       "      <td>734</td>\n",
       "    </tr>\n",
       "    <tr>\n",
       "      <th>3</th>\n",
       "      <td>93613</td>\n",
       "      <td>2581</td>\n",
       "      <td>712</td>\n",
       "    </tr>\n",
       "    <tr>\n",
       "      <th>4</th>\n",
       "      <td>88013</td>\n",
       "      <td>1296</td>\n",
       "      <td>712</td>\n",
       "    </tr>\n",
       "  </tbody>\n",
       "</table>\n",
       "</div>"
      ],
      "text/plain": [
       "   income  monthly_spend  credit_score\n",
       "0   86460           3129           661\n",
       "1   66002           1191           668\n",
       "2   74681           1237           734\n",
       "3   93613           2581           712\n",
       "4   88013           1296           712"
      ]
     },
     "execution_count": 28,
     "metadata": {},
     "output_type": "execute_result"
    }
   ],
   "source": [
    "import pandas as pd\n",
    "import numpy as np\n",
    "\n",
    "# Example synthetic data (replace with your project dataset)\n",
    "np.random.seed(0)\n",
    "n = 100\n",
    "df = pd.DataFrame({\n",
    "    'income': np.random.normal(60000, 15000, n).astype(int),\n",
    "    'monthly_spend': np.random.normal(2000, 600, n).astype(int),\n",
    "    'credit_score': np.random.normal(680, 50, n).astype(int)\n",
    "})\n",
    "df.head()"
   ]
  },
  {
   "cell_type": "code",
   "execution_count": 29,
   "id": "b1f65611-08a4-4601-9966-75f4d072b53c",
   "metadata": {},
   "outputs": [
    {
     "data": {
      "text/html": [
       "<div>\n",
       "<style scoped>\n",
       "    .dataframe tbody tr th:only-of-type {\n",
       "        vertical-align: middle;\n",
       "    }\n",
       "\n",
       "    .dataframe tbody tr th {\n",
       "        vertical-align: top;\n",
       "    }\n",
       "\n",
       "    .dataframe thead th {\n",
       "        text-align: right;\n",
       "    }\n",
       "</style>\n",
       "<table border=\"1\" class=\"dataframe\">\n",
       "  <thead>\n",
       "    <tr style=\"text-align: right;\">\n",
       "      <th></th>\n",
       "      <th>Patient_ID</th>\n",
       "      <th>Respiratory_Rate</th>\n",
       "      <th>Oxygen_Saturation</th>\n",
       "      <th>O2_Scale</th>\n",
       "      <th>Systolic_BP</th>\n",
       "      <th>Heart_Rate</th>\n",
       "      <th>Temperature</th>\n",
       "      <th>Consciousness</th>\n",
       "      <th>On_Oxygen</th>\n",
       "      <th>Risk_Level</th>\n",
       "    </tr>\n",
       "  </thead>\n",
       "  <tbody>\n",
       "    <tr>\n",
       "      <th>0</th>\n",
       "      <td>P0522</td>\n",
       "      <td>25</td>\n",
       "      <td>96</td>\n",
       "      <td>1</td>\n",
       "      <td>97</td>\n",
       "      <td>107</td>\n",
       "      <td>37.5</td>\n",
       "      <td>A</td>\n",
       "      <td>0</td>\n",
       "      <td>Medium</td>\n",
       "    </tr>\n",
       "    <tr>\n",
       "      <th>1</th>\n",
       "      <td>P0738</td>\n",
       "      <td>28</td>\n",
       "      <td>92</td>\n",
       "      <td>2</td>\n",
       "      <td>116</td>\n",
       "      <td>151</td>\n",
       "      <td>38.5</td>\n",
       "      <td>P</td>\n",
       "      <td>1</td>\n",
       "      <td>High</td>\n",
       "    </tr>\n",
       "    <tr>\n",
       "      <th>2</th>\n",
       "      <td>P0741</td>\n",
       "      <td>29</td>\n",
       "      <td>91</td>\n",
       "      <td>1</td>\n",
       "      <td>79</td>\n",
       "      <td>135</td>\n",
       "      <td>38.4</td>\n",
       "      <td>A</td>\n",
       "      <td>0</td>\n",
       "      <td>High</td>\n",
       "    </tr>\n",
       "    <tr>\n",
       "      <th>3</th>\n",
       "      <td>P0661</td>\n",
       "      <td>24</td>\n",
       "      <td>96</td>\n",
       "      <td>1</td>\n",
       "      <td>95</td>\n",
       "      <td>92</td>\n",
       "      <td>37.3</td>\n",
       "      <td>A</td>\n",
       "      <td>0</td>\n",
       "      <td>Medium</td>\n",
       "    </tr>\n",
       "    <tr>\n",
       "      <th>4</th>\n",
       "      <td>P0412</td>\n",
       "      <td>20</td>\n",
       "      <td>96</td>\n",
       "      <td>1</td>\n",
       "      <td>97</td>\n",
       "      <td>97</td>\n",
       "      <td>37.4</td>\n",
       "      <td>A</td>\n",
       "      <td>0</td>\n",
       "      <td>Low</td>\n",
       "    </tr>\n",
       "  </tbody>\n",
       "</table>\n",
       "</div>"
      ],
      "text/plain": [
       "  Patient_ID  Respiratory_Rate  Oxygen_Saturation  O2_Scale  Systolic_BP  \\\n",
       "0      P0522                25                 96         1           97   \n",
       "1      P0738                28                 92         2          116   \n",
       "2      P0741                29                 91         1           79   \n",
       "3      P0661                24                 96         1           95   \n",
       "4      P0412                20                 96         1           97   \n",
       "\n",
       "   Heart_Rate  Temperature Consciousness  On_Oxygen Risk_Level  \n",
       "0         107         37.5             A          0     Medium  \n",
       "1         151         38.5             P          1       High  \n",
       "2         135         38.4             A          0       High  \n",
       "3          92         37.3             A          0     Medium  \n",
       "4          97         37.4             A          0        Low  "
      ]
     },
     "execution_count": 29,
     "metadata": {},
     "output_type": "execute_result"
    }
   ],
   "source": [
    "data_path = r\"/Users/souhil/bootcamp_souhil_khiat/homework/homework9/data/Health_Risk_Dataset.csv\"\n",
    "\n",
    "\n",
    "df2 = pd.read_csv(data_path)\n",
    "\n",
    "df2.head()"
   ]
  },
  {
   "cell_type": "markdown",
   "id": "f3269fb8",
   "metadata": {},
   "source": [
    "## TODO: Implement at least 2 engineered features here"
   ]
  },
  {
   "cell_type": "code",
   "execution_count": 31,
   "id": "7fa81d7b",
   "metadata": {},
   "outputs": [],
   "source": [
    "# Example template:\n",
    "df['spend_income_ratio'] = df['monthly_spend'] / df['income']  # TODO: Your feature\n",
    "# Add rationale in markdown below\n",
    "df2['Shock_Index'] = df2['Heart_Rate'] / df2['Systolic_BP']\n"
   ]
  },
  {
   "cell_type": "markdown",
   "id": "bfbb61fb",
   "metadata": {},
   "source": [
    "### Rationale for Feature 1\n",
    "Rationale for Feature 1: Shock Index (Heart Rate ÷ Systolic BP)\n",
    "\n",
    "The Shock Index is a clinically recognized marker of hemodynamic stability.\n",
    "\n",
    "A higher value indicates tachycardia combined with hypotension, often seen in patients with shock, bleeding, or sepsis.\n",
    "\n",
    "It is more informative than Heart Rate or Blood Pressure alone because it captures the balance between cardiovascular demand and perfusion.\n",
    "\n",
    "Including this feature may help the model flag patients at higher risk earlier."
   ]
  },
  {
   "cell_type": "code",
   "execution_count": null,
   "id": "75dbe6c8",
   "metadata": {},
   "outputs": [],
   "source": [
    "df2[\"Respiratory_Oxygen_Ratio\"] = df2['Respiratory_Rate'] / df2['Oxygen_Saturation']"
   ]
  },
  {
   "cell_type": "markdown",
   "id": "64a444d9",
   "metadata": {},
   "source": [
    "### Rationale for Feature 2\n",
    "Rationale for Feature 2: Respiratory–Oxygen Ratio (Respiratory Rate ÷ Oxygen Saturation)\n",
    "\n",
    "This ratio reflects the efficiency of breathing relative to oxygenation.\n",
    "\n",
    "A higher value indicates patients breathing faster despite lower oxygen saturation → possible respiratory failure or hypoxemia.\n",
    "\n",
    "It combines two signals (rate of breathing and blood oxygenation) into one stress index, helping the model detect early deterioration.\n",
    "\n",
    "Useful in predicting progression to high risk in respiratory illnesses."
   ]
  },
  {
   "cell_type": "markdown",
   "id": "b7ab8232-70ea-4628-80c5-569f8ec85eac",
   "metadata": {},
   "source": [
    "### Optional Plots"
   ]
  },
  {
   "cell_type": "code",
   "execution_count": 33,
   "id": "0fb9bddd-7821-4ae6-ad10-99b5d3e007ca",
   "metadata": {},
   "outputs": [
    {
     "data": {
      "image/png": "[encoded data removed]",
      "text/plain": [
       "<Figure size 600x400 with 2 Axes>"
      ]
     },
     "metadata": {},
     "output_type": "display_data"
    }
   ],
   "source": [
    "import seaborn as sns\n",
    "import matplotlib.pyplot as plt\n",
    "\n",
    "\n",
    "mapping = {\"Low\":0, \"Normal\":1, \"Medium\":2, \"High\":3}\n",
    "df2[\"Risk_Level_num\"] = df2[\"Risk_Level\"].map(mapping)\n",
    "\n",
    "\n",
    "# Correlation with engineered features\n",
    "corrs = df2[[\"Shock_Index\",\"Respiratory_Oxygen_Ratio\",\"Risk_Level_num\"]].corr()\n",
    "\n",
    "plt.figure(figsize=(6,4))\n",
    "sns.heatmap(corrs, annot=True, cmap=\"coolwarm\", fmt=\".2f\")\n",
    "plt.title(\"Correlation with Risk Level (encoded)\")\n",
    "plt.show()"
   ]
  },
  {
   "cell_type": "code",
   "execution_count": null,
   "id": "161c8649-7b51-4c15-9ce0-28d2e2322be3",
   "metadata": {},
   "outputs": [],
   "source": []
  }
 ],
 "metadata": {
  "kernelspec": {
   "display_name": "Python 3 (ipykernel)",
   "language": "python",
   "name": "python3"
  },
  "language_info": {
   "codemirror_mode": {
    "name": "ipython",
    "version": 3
   },
   "file_extension": ".py",
   "mimetype": "text/x-python",
   "name": "python",
   "nbconvert_exporter": "python",
   "pygments_lexer": "ipython3",
   "version": "3.10.18"
  }
 },
 "nbformat": 4,
 "nbformat_minor": 5
}
