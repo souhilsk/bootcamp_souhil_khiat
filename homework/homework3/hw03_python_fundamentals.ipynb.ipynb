{
 "cells": [
  {
   "cell_type": "markdown",
   "id": "5f0e22b4-45a3-4742-a685-3f41b6720fc8",
   "metadata": {},
   "source": [
    "# Stage 03: Python Fundamentals\n"
   ]
  },
  {
   "cell_type": "code",
   "execution_count": 1,
   "id": "d010a9ad-3c9c-4ebe-9bb1-98d78b93f261",
   "metadata": {},
   "outputs": [],
   "source": [
    "import numpy as np\n",
    "import time\n",
    "import pandas as pd\n",
    "from pathlib import Path\n",
    "import matplotlib.pyplot as plt\n"
   ]
  },
  {
   "cell_type": "code",
   "execution_count": 2,
   "id": "32920e49-6872-4742-91d2-b1bbbc90dcc9",
   "metadata": {},
   "outputs": [
    {
     "name": "stdout",
     "output_type": "stream",
     "text": [
      "### Elementwise operations demo\n",
      "x: [0. 1. 2. 3. 4. 5. 6. 7. 8. 9.]\n",
      "y = x*2 + 3: [ 3.  5.  7.  9. 11. 13. 15. 17. 19. 21.]\n",
      "z = sqrt(y): [1.7321 2.2361 2.6458 3.     3.3166 3.6056 3.873  4.1231 4.3589 4.5826]\n"
     ]
    }
   ],
   "source": [
    "print(\"### Elementwise operations demo\")\n",
    "x = np.arange(10, dtype=float)\n",
    "y = x * 2 + 3        # multiply then add\n",
    "z = np.sqrt(y)       # elementwise square root\n",
    "\n",
    "\n",
    "print(\"x:\", x)\n",
    "print(\"y = x*2 + 3:\", y)\n",
    "print(\"z = sqrt(y):\", np.round(z, 4))"
   ]
  },
  {
   "cell_type": "code",
   "execution_count": 3,
   "id": "ddcc8fd4-9490-42dc-8e38-2a0e9e2ccf9b",
   "metadata": {},
   "outputs": [
    {
     "name": "stdout",
     "output_type": "stream",
     "text": [
      "\n",
      "### Loop vs Vectorized timing\n"
     ]
    }
   ],
   "source": [
    "print(\"\\n### Loop vs Vectorized timing\")\n",
    "def square_loop(arr: np.ndarray) -> np.ndarray:\n",
    "    out = np.empty_like(arr)\n",
    "    for i in range(arr.size):\n",
    "        out[i] = arr[i] * arr[i]\n",
    "    return out\n",
    "\n",
    "def square_vectorized(arr: np.ndarray) -> np.ndarray:\n",
    "    return arr * arr\n",
    "\n",
    "n = 300_000\n",
    "arr = np.arange(n, dtype=float)"
   ]
  },
  {
   "cell_type": "code",
   "execution_count": 4,
   "id": "334a12d8-21a8-48dc-815f-b965a3c56d05",
   "metadata": {},
   "outputs": [
    {
     "name": "stdout",
     "output_type": "stream",
     "text": [
      "Array size: 300,000\n",
      "Loop time: 0.0479 s\n",
      "Vectorized time: 0.000372 s\n",
      "Speedup: 128.9x\n",
      "Results identical: True\n"
     ]
    }
   ],
   "source": [
    "# Warmup\n",
    "_ = square_vectorized(arr)\n",
    "\n",
    "t0 = time.perf_counter()\n",
    "loop_res = square_loop(arr)\n",
    "t_loop = time.perf_counter() - t0\n",
    "\n",
    "t0 = time.perf_counter()\n",
    "vec_res = square_vectorized(arr)\n",
    "t_vec = time.perf_counter() - t0\n",
    "\n",
    "same = np.allclose(loop_res, vec_res)\n",
    "\n",
    "print(f\"Array size: {n:,}\")\n",
    "print(f\"Loop time: {t_loop:.4f} s\")\n",
    "print(f\"Vectorized time: {t_vec:.6f} s\")\n",
    "print(f\"Speedup: {t_loop / max(t_vec, 1e-12):.1f}x\")\n",
    "print(\"Results identical:\", same)"
   ]
  },
  {
   "cell_type": "code",
   "execution_count": 5,
   "id": "1ffbe4ef-9686-4ce7-8adc-ca1e0c932e13",
   "metadata": {},
   "outputs": [],
   "source": [
    "csv_path = Path(\"/Users/souhil/bootcamp_souhil_khiat/homework/homework3/data/starter_data.csv\")\n",
    "df = pd.read_csv(csv_path, parse_dates=[\"date\"])  "
   ]
  },
  {
   "cell_type": "code",
   "execution_count": 6,
   "id": "d49b0c40-0ec7-4f0b-8e36-6052585ba36c",
   "metadata": {},
   "outputs": [
    {
     "name": "stdout",
     "output_type": "stream",
     "text": [
      "<class 'pandas.core.frame.DataFrame'>\n",
      "RangeIndex: 10 entries, 0 to 9\n",
      "Data columns (total 3 columns):\n",
      " #   Column    Non-Null Count  Dtype         \n",
      "---  ------    --------------  -----         \n",
      " 0   category  10 non-null     object        \n",
      " 1   value     10 non-null     int64         \n",
      " 2   date      10 non-null     datetime64[ns]\n",
      "dtypes: datetime64[ns](1), int64(1), object(1)\n",
      "memory usage: 372.0+ bytes\n"
     ]
    }
   ],
   "source": [
    "df.info()"
   ]
  },
  {
   "cell_type": "code",
   "execution_count": 7,
   "id": "537f0ff8-24d0-46df-9185-d69d8c65d554",
   "metadata": {},
   "outputs": [
    {
     "data": {
      "text/html": [
       "<div>\n",
       "<style scoped>\n",
       "    .dataframe tbody tr th:only-of-type {\n",
       "        vertical-align: middle;\n",
       "    }\n",
       "\n",
       "    .dataframe tbody tr th {\n",
       "        vertical-align: top;\n",
       "    }\n",
       "\n",
       "    .dataframe thead th {\n",
       "        text-align: right;\n",
       "    }\n",
       "</style>\n",
       "<table border=\"1\" class=\"dataframe\">\n",
       "  <thead>\n",
       "    <tr style=\"text-align: right;\">\n",
       "      <th></th>\n",
       "      <th>category</th>\n",
       "      <th>value</th>\n",
       "      <th>date</th>\n",
       "    </tr>\n",
       "  </thead>\n",
       "  <tbody>\n",
       "    <tr>\n",
       "      <th>0</th>\n",
       "      <td>A</td>\n",
       "      <td>10</td>\n",
       "      <td>2025-08-01</td>\n",
       "    </tr>\n",
       "    <tr>\n",
       "      <th>1</th>\n",
       "      <td>B</td>\n",
       "      <td>15</td>\n",
       "      <td>2025-08-02</td>\n",
       "    </tr>\n",
       "    <tr>\n",
       "      <th>2</th>\n",
       "      <td>A</td>\n",
       "      <td>12</td>\n",
       "      <td>2025-08-03</td>\n",
       "    </tr>\n",
       "    <tr>\n",
       "      <th>3</th>\n",
       "      <td>B</td>\n",
       "      <td>18</td>\n",
       "      <td>2025-08-04</td>\n",
       "    </tr>\n",
       "    <tr>\n",
       "      <th>4</th>\n",
       "      <td>C</td>\n",
       "      <td>25</td>\n",
       "      <td>2025-08-05</td>\n",
       "    </tr>\n",
       "  </tbody>\n",
       "</table>\n",
       "</div>"
      ],
      "text/plain": [
       "  category  value       date\n",
       "0        A     10 2025-08-01\n",
       "1        B     15 2025-08-02\n",
       "2        A     12 2025-08-03\n",
       "3        B     18 2025-08-04\n",
       "4        C     25 2025-08-05"
      ]
     },
     "execution_count": 7,
     "metadata": {},
     "output_type": "execute_result"
    }
   ],
   "source": [
    "df.head()"
   ]
  },
  {
   "cell_type": "code",
   "execution_count": 8,
   "id": "117abd1c-c24c-4edb-8d42-f355f674af51",
   "metadata": {},
   "outputs": [
    {
     "data": {
      "text/plain": [
       "count    10.000000\n",
       "mean     17.600000\n",
       "std       7.381659\n",
       "min      10.000000\n",
       "25%      12.250000\n",
       "50%      14.500000\n",
       "75%      23.250000\n",
       "max      30.000000\n",
       "Name: value, dtype: float64"
      ]
     },
     "execution_count": 8,
     "metadata": {},
     "output_type": "execute_result"
    }
   ],
   "source": [
    "summary = df[\"value\"].describe()\n",
    "summary"
   ]
  },
  {
   "cell_type": "code",
   "execution_count": 9,
   "id": "56db760a-41f3-498b-b912-8b570b460a3e",
   "metadata": {},
   "outputs": [
    {
     "data": {
      "text/html": [
       "<div>\n",
       "<style scoped>\n",
       "    .dataframe tbody tr th:only-of-type {\n",
       "        vertical-align: middle;\n",
       "    }\n",
       "\n",
       "    .dataframe tbody tr th {\n",
       "        vertical-align: top;\n",
       "    }\n",
       "\n",
       "    .dataframe thead tr th {\n",
       "        text-align: left;\n",
       "    }\n",
       "\n",
       "    .dataframe thead tr:last-of-type th {\n",
       "        text-align: right;\n",
       "    }\n",
       "</style>\n",
       "<table border=\"1\" class=\"dataframe\">\n",
       "  <thead>\n",
       "    <tr>\n",
       "      <th></th>\n",
       "      <th colspan=\"5\" halign=\"left\">value</th>\n",
       "    </tr>\n",
       "    <tr>\n",
       "      <th></th>\n",
       "      <th>mean</th>\n",
       "      <th>std</th>\n",
       "      <th>count</th>\n",
       "      <th>min</th>\n",
       "      <th>max</th>\n",
       "    </tr>\n",
       "    <tr>\n",
       "      <th>category</th>\n",
       "      <th></th>\n",
       "      <th></th>\n",
       "      <th></th>\n",
       "      <th></th>\n",
       "      <th></th>\n",
       "    </tr>\n",
       "  </thead>\n",
       "  <tbody>\n",
       "    <tr>\n",
       "      <th>A</th>\n",
       "      <td>11.500000</td>\n",
       "      <td>1.290994</td>\n",
       "      <td>4</td>\n",
       "      <td>10</td>\n",
       "      <td>13</td>\n",
       "    </tr>\n",
       "    <tr>\n",
       "      <th>B</th>\n",
       "      <td>15.666667</td>\n",
       "      <td>2.081666</td>\n",
       "      <td>3</td>\n",
       "      <td>14</td>\n",
       "      <td>18</td>\n",
       "    </tr>\n",
       "    <tr>\n",
       "      <th>C</th>\n",
       "      <td>27.666667</td>\n",
       "      <td>2.516611</td>\n",
       "      <td>3</td>\n",
       "      <td>25</td>\n",
       "      <td>30</td>\n",
       "    </tr>\n",
       "  </tbody>\n",
       "</table>\n",
       "</div>"
      ],
      "text/plain": [
       "              value                        \n",
       "               mean       std count min max\n",
       "category                                   \n",
       "A         11.500000  1.290994     4  10  13\n",
       "B         15.666667  2.081666     3  14  18\n",
       "C         27.666667  2.516611     3  25  30"
      ]
     },
     "execution_count": 9,
     "metadata": {},
     "output_type": "execute_result"
    }
   ],
   "source": [
    "numeric_cols = df.select_dtypes(include=\"number\").columns\n",
    "grouped = df.groupby(\"category\")[numeric_cols].agg([\"mean\", \"std\", \"count\", \"min\", \"max\"])\n",
    "grouped"
   ]
  },
  {
   "cell_type": "code",
   "execution_count": 10,
   "id": "afdf4c86-5b36-4f26-9479-fe375c876060",
   "metadata": {
    "scrolled": true
   },
   "outputs": [
    {
     "name": "stdout",
     "output_type": "stream",
     "text": [
      "Saved files in: /Users/souhil/bootcamp_souhil_khiat/homework/homework3/data/processed\n"
     ]
    },
    {
     "data": {
      "text/plain": [
       "<Figure size 640x480 with 0 Axes>"
      ]
     },
     "metadata": {},
     "output_type": "display_data"
    },
    {
     "data": {
      "image/png": "[encoded data removed]",
      "text/plain": [
       "<Figure size 640x480 with 1 Axes>"
      ]
     },
     "metadata": {},
     "output_type": "display_data"
    }
   ],
   "source": [
    "processed = Path(\"data/processed\")\n",
    "processed.mkdir(parents=True, exist_ok=True)\n",
    "\n",
    "# Save summary stats\n",
    "summary.to_csv(processed / \"summary.csv\")\n",
    "summary.to_json(processed / \"summary.json\", orient=\"table\")\n",
    "\n",
    "# Save groupby results\n",
    "grouped.to_csv(processed / \"group_summary.csv\")\n",
    "\n",
    "# Bonus plot: mean of each numeric column by category (bar)\n",
    "mean_by_cat = df.groupby(\"category\")[numeric_cols].mean()\n",
    "plt.figure()\n",
    "mean_by_cat.plot(kind=\"bar\", title=\"Mean by Category\")\n",
    "plt.tight_layout()\n",
    "plt.savefig(processed / \"mean_by_category.png\")\n",
    "print(\"Saved files in:\", processed.resolve())"
   ]
  },
  {
   "cell_type": "code",
   "execution_count": 11,
   "id": "bcf504a0-4e07-4897-adf0-a099adc56b7d",
   "metadata": {
    "scrolled": true
   },
   "outputs": [
    {
     "data": {
      "text/html": [
       "<div>\n",
       "<style scoped>\n",
       "    .dataframe tbody tr th:only-of-type {\n",
       "        vertical-align: middle;\n",
       "    }\n",
       "\n",
       "    .dataframe tbody tr th {\n",
       "        vertical-align: top;\n",
       "    }\n",
       "\n",
       "    .dataframe thead th {\n",
       "        text-align: right;\n",
       "    }\n",
       "</style>\n",
       "<table border=\"1\" class=\"dataframe\">\n",
       "  <thead>\n",
       "    <tr style=\"text-align: right;\">\n",
       "      <th></th>\n",
       "      <th>category</th>\n",
       "      <th>value</th>\n",
       "    </tr>\n",
       "  </thead>\n",
       "  <tbody>\n",
       "    <tr>\n",
       "      <th>0</th>\n",
       "      <td>A</td>\n",
       "      <td>11.500000</td>\n",
       "    </tr>\n",
       "    <tr>\n",
       "      <th>1</th>\n",
       "      <td>B</td>\n",
       "      <td>15.666667</td>\n",
       "    </tr>\n",
       "    <tr>\n",
       "      <th>2</th>\n",
       "      <td>C</td>\n",
       "      <td>27.666667</td>\n",
       "    </tr>\n",
       "  </tbody>\n",
       "</table>\n",
       "</div>"
      ],
      "text/plain": [
       "  category      value\n",
       "0        A  11.500000\n",
       "1        B  15.666667\n",
       "2        C  27.666667"
      ]
     },
     "execution_count": 11,
     "metadata": {},
     "output_type": "execute_result"
    }
   ],
   "source": [
    "from src.utils import get_summary_stats\n",
    "\n",
    "get_summary_stats(df)"
   ]
  },
  {
   "cell_type": "markdown",
   "id": "7ed8ff77-8b14-48bf-bb45-7bc204cf1715",
   "metadata": {},
   "source": [
    "## "
   ]
  }
 ],
 "metadata": {
  "kernelspec": {
   "display_name": "Python 3.12",
   "language": "python",
   "name": "python3.12"
  },
  "language_info": {
   "codemirror_mode": {
    "name": "ipython",
    "version": 3
   },
   "file_extension": ".py",
   "mimetype": "text/x-python",
   "name": "python",
   "nbconvert_exporter": "python",
   "pygments_lexer": "ipython3",
   "version": "3.12.0"
  }
 },
 "nbformat": 4,
 "nbformat_minor": 5
}
