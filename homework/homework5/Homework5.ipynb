{
 "cells": [
  {
   "cell_type": "markdown",
   "id": "53238981",
   "metadata": {},
   "source": [
    "# Homework Starter — Stage 05: Data Storage\n",
    "Name: Souhil Khiat\n",
    "Date: 8/20/25\n",
    "\n",
    "Objectives:\n",
    "- Env-driven paths to `data/raw/` and `data/processed/`\n",
    "- Save CSV and Parquet; reload and validate\n",
    "- Abstract IO with utility functions; document choices"
   ]
  },
  {
   "cell_type": "code",
   "execution_count": 7,
   "id": "cb0c6aa8",
   "metadata": {},
   "outputs": [
    {
     "name": "stdout",
     "output_type": "stream",
     "text": [
      "RAW -> /Users/souhil/bootcamp_souhil_khiat/homework/homework5/data/raw\n",
      "PROC -> /Users/souhil/bootcamp_souhil_khiat/homework/homework5/data/processed\n"
     ]
    }
   ],
   "source": [
    "import os, pathlib, datetime as dt\n",
    "import pandas as pd\n",
    "from dotenv import load_dotenv\n",
    "\n",
    "load_dotenv()\n",
    "RAW = pathlib.Path(os.getenv('DATA_DIR_RAW', 'data/raw'))\n",
    "PROC = pathlib.Path(os.getenv('DATA_DIR_PROCESSED', 'data/processed'))\n",
    "RAW.mkdir(parents=True, exist_ok=True)\n",
    "PROC.mkdir(parents=True, exist_ok=True)\n",
    "print('RAW ->', RAW.resolve())\n",
    "print('PROC ->', PROC.resolve())"
   ]
  },
  {
   "cell_type": "markdown",
   "id": "37087402",
   "metadata": {},
   "source": [
    "## 1) Create or Load a Sample DataFrame\n",
    "You may reuse data from prior stages or create a small synthetic dataset."
   ]
  },
  {
   "cell_type": "code",
   "execution_count": 8,
   "id": "4b46ab73",
   "metadata": {},
   "outputs": [
    {
     "data": {
      "text/html": [
       "<div>\n",
       "<style scoped>\n",
       "    .dataframe tbody tr th:only-of-type {\n",
       "        vertical-align: middle;\n",
       "    }\n",
       "\n",
       "    .dataframe tbody tr th {\n",
       "        vertical-align: top;\n",
       "    }\n",
       "\n",
       "    .dataframe thead th {\n",
       "        text-align: right;\n",
       "    }\n",
       "</style>\n",
       "<table border=\"1\" class=\"dataframe\">\n",
       "  <thead>\n",
       "    <tr style=\"text-align: right;\">\n",
       "      <th></th>\n",
       "      <th>date</th>\n",
       "      <th>ticker</th>\n",
       "      <th>price</th>\n",
       "    </tr>\n",
       "  </thead>\n",
       "  <tbody>\n",
       "    <tr>\n",
       "      <th>0</th>\n",
       "      <td>2024-01-01</td>\n",
       "      <td>AAPL</td>\n",
       "      <td>150.086672</td>\n",
       "    </tr>\n",
       "    <tr>\n",
       "      <th>1</th>\n",
       "      <td>2024-01-02</td>\n",
       "      <td>AAPL</td>\n",
       "      <td>149.302689</td>\n",
       "    </tr>\n",
       "    <tr>\n",
       "      <th>2</th>\n",
       "      <td>2024-01-03</td>\n",
       "      <td>AAPL</td>\n",
       "      <td>149.558998</td>\n",
       "    </tr>\n",
       "    <tr>\n",
       "      <th>3</th>\n",
       "      <td>2024-01-04</td>\n",
       "      <td>AAPL</td>\n",
       "      <td>150.113076</td>\n",
       "    </tr>\n",
       "    <tr>\n",
       "      <th>4</th>\n",
       "      <td>2024-01-05</td>\n",
       "      <td>AAPL</td>\n",
       "      <td>150.920510</td>\n",
       "    </tr>\n",
       "  </tbody>\n",
       "</table>\n",
       "</div>"
      ],
      "text/plain": [
       "        date ticker       price\n",
       "0 2024-01-01   AAPL  150.086672\n",
       "1 2024-01-02   AAPL  149.302689\n",
       "2 2024-01-03   AAPL  149.558998\n",
       "3 2024-01-04   AAPL  150.113076\n",
       "4 2024-01-05   AAPL  150.920510"
      ]
     },
     "execution_count": 8,
     "metadata": {},
     "output_type": "execute_result"
    }
   ],
   "source": [
    "import numpy as np\n",
    "dates = pd.date_range('2024-01-01', periods=20, freq='D')\n",
    "df = pd.DataFrame({'date': dates, 'ticker': ['AAPL']*20, 'price': 150 + np.random.randn(20).cumsum()})\n",
    "df.head()"
   ]
  },
  {
   "cell_type": "markdown",
   "id": "ea8b1856",
   "metadata": {},
   "source": [
    "## 2) Save CSV to data/raw/ and Parquet to data/processed/ (TODO)\n",
    "- Use timestamped filenames.\n",
    "- Handle missing Parquet engine gracefully."
   ]
  },
  {
   "cell_type": "code",
   "execution_count": 9,
   "id": "e52f30d2",
   "metadata": {},
   "outputs": [
    {
     "data": {
      "text/plain": [
       "PosixPath('data/processed/sample_20250820-204417.parquet')"
      ]
     },
     "execution_count": 9,
     "metadata": {},
     "output_type": "execute_result"
    }
   ],
   "source": [
    "def ts(): return dt.datetime.now().strftime('%Y%m%d-%H%M%S')\n",
    "\n",
    "# TODO: Save CSV\n",
    "csv_path = RAW / f\"sample_{ts()}.csv\"\n",
    "df.to_csv(csv_path, index=False)\n",
    "csv_path\n",
    "\n",
    "# TODO: Save Parquet\n",
    "pq_path = PROC / f\"sample_{ts()}.parquet\"\n",
    "try:\n",
    "    df.to_parquet(pq_path)\n",
    "except Exception as e:\n",
    "    print('Parquet engine not available. Install pyarrow or fastparquet to complete this step.')\n",
    "    pq_path = None\n",
    "pq_path"
   ]
  },
  {
   "cell_type": "markdown",
   "id": "e979506b",
   "metadata": {},
   "source": [
    "## 3) Reload and Validate (TODO)\n",
    "- Compare shapes and key dtypes."
   ]
  },
  {
   "cell_type": "code",
   "execution_count": 10,
   "id": "58ca373d",
   "metadata": {},
   "outputs": [
    {
     "name": "stdout",
     "output_type": "stream",
     "text": [
      "Validation for CSV: {'shape_equal': True, 'date_is_datetime': True, 'price_is_numeric': True}\n"
     ]
    }
   ],
   "source": [
    "def validate_loaded(original, reloaded):\n",
    "    checks = {\n",
    "        'shape_equal': original.shape == reloaded.shape,\n",
    "        'date_is_datetime': pd.api.types.is_datetime64_any_dtype(reloaded['date']) if 'date' in reloaded.columns else False,\n",
    "        'price_is_numeric': pd.api.types.is_numeric_dtype(reloaded['price']) if 'price' in reloaded.columns else False,\n",
    "    }\n",
    "    return checks\n",
    "\n",
    "# Load the CSV, ensuring the 'date' column is parsed correctly\n",
    "df_csv = pd.read_csv(csv_path, parse_dates=['date'])\n",
    "print(\"Validation for CSV:\", validate_loaded(df, df_csv))"
   ]
  },
  {
   "cell_type": "code",
   "execution_count": 11,
   "id": "ab29bd3e",
   "metadata": {},
   "outputs": [
    {
     "name": "stdout",
     "output_type": "stream",
     "text": [
      "Validation for Parquet: {'shape_equal': True, 'date_is_datetime': True, 'price_is_numeric': True}\n"
     ]
    }
   ],
   "source": [
    "if pq_path and pq_path.exists():\n",
    "    try:\n",
    "        df_pq = pd.read_parquet(pq_path)\n",
    "        print(\"Validation for Parquet:\", validate_loaded(df, df_pq))\n",
    "    except Exception as e:\n",
    "        print(f\"Parquet read failed: {e}\")\n",
    "else:\n",
    "    print(\"Parquet file not found, skipping validation.\")"
   ]
  },
  {
   "cell_type": "markdown",
   "id": "5430b283",
   "metadata": {},
   "source": [
    "## 4) Utilities (TODO)\n",
    "- Implement `detect_format`, `write_df`, `read_df`.\n",
    "- Use suffix to route; create parent dirs if needed; friendly errors for Parquet."
   ]
  },
  {
   "cell_type": "code",
   "execution_count": 12,
   "id": "57caab7c",
   "metadata": {},
   "outputs": [
    {
     "name": "stdout",
     "output_type": "stream",
     "text": [
      "\n",
      "--- Testing Utilities ---\n",
      "Successfully wrote csv to data/raw/util_20250820-204418.csv\n",
      "Reloaded CSV via util, shape: (20, 3)\n",
      "CSV validation via util: {'shape_equal': True, 'date_is_datetime': True, 'price_is_numeric': True}\n",
      "--------------------\n",
      "Successfully wrote parquet to data/processed/util_20250820-204418.parquet\n",
      "Reloaded Parquet via util, shape: (20, 3)\n",
      "Parquet validation via util: {'shape_equal': True, 'date_is_datetime': True, 'price_is_numeric': True}\n"
     ]
    }
   ],
   "source": [
    "import typing as t\n",
    "import pathlib\n",
    "import time \n",
    "def detect_format(path: t.Union[str, pathlib.Path]) -> str:\n",
    "    \"\"\"Detects file format from suffix. Supports csv, parquet, pq, parq.\"\"\"\n",
    "    s = str(path).lower()\n",
    "    if s.endswith('.csv'):\n",
    "        return 'csv'\n",
    "    if s.endswith(('.parquet', '.pq', '.parq')):\n",
    "        return 'parquet'\n",
    "    raise ValueError('Unsupported file format: ' + str(path))\n",
    "\n",
    "def write_df(df: pd.DataFrame, path: t.Union[str, pathlib.Path]):\n",
    "    \"\"\"Writes a DataFrame to a path, creating parent dirs and routing by suffix.\"\"\"\n",
    "    p = pathlib.Path(path)\n",
    "    # Ensure the parent directory exists\n",
    "    p.parent.mkdir(parents=True, exist_ok=True)\n",
    "    \n",
    "    fmt = detect_format(p)\n",
    "    if fmt == 'csv':\n",
    "        df.to_csv(p, index=False)\n",
    "    elif fmt == 'parquet':\n",
    "        try:\n",
    "            df.to_parquet(p)\n",
    "        except Exception as e:\n",
    "            raise RuntimeError('Parquet engine not available. Install pyarrow or fastparquet.') from e\n",
    "    print(f\"Successfully wrote {fmt} to {p}\")\n",
    "    return p\n",
    "\n",
    "def read_df(path: t.Union[str, pathlib.Path]) -> pd.DataFrame:\n",
    "    \"\"\"Reads a DataFrame from a path, routing by suffix.\"\"\"\n",
    "    p = pathlib.Path(path)\n",
    "    fmt = detect_format(p)\n",
    "    \n",
    "    if not p.exists():\n",
    "        raise FileNotFoundError(f\"File not found at: {p}\")\n",
    "        \n",
    "    if fmt == 'csv':\n",
    "        # Smartly parse dates if a 'date' column exists\n",
    "        temp_df = pd.read_csv(p, nrows=0) # Read only header to check columns\n",
    "        if 'date' in temp_df.columns:\n",
    "            return pd.read_csv(p, parse_dates=['date'])\n",
    "        else:\n",
    "            return pd.read_csv(p)\n",
    "    elif fmt == 'parquet':\n",
    "        try:\n",
    "            return pd.read_parquet(p)\n",
    "        except Exception as e:\n",
    "            raise RuntimeError('Parquet engine not available. Install pyarrow or fastparquet.') from e\n",
    "\n",
    "# --- Demo Usage ---\n",
    "print(\"\\n--- Testing Utilities ---\")\n",
    "# A short sleep ensures the timestamp is different\n",
    "time.sleep(1)\n",
    "p_csv = RAW / f\"util_{ts()}.csv\"\n",
    "p_pq  = PROC / f\"util_{ts()}.parquet\"\n",
    "\n",
    "# Test write and read for CSV\n",
    "write_df(df, p_csv)\n",
    "reloaded_csv = read_df(p_csv)\n",
    "print(\"Reloaded CSV via util, shape:\", reloaded_csv.shape)\n",
    "print(\"CSV validation via util:\", validate_loaded(df, reloaded_csv))\n",
    "print(\"-\" * 20)\n",
    "\n",
    "# Test write and read for Parquet\n",
    "try:\n",
    "    time.sleep(1)\n",
    "    write_df(df, p_pq)\n",
    "    reloaded_pq = read_df(p_pq)\n",
    "    print(\"Reloaded Parquet via util, shape:\", reloaded_pq.shape)\n",
    "    print(\"Parquet validation via util:\", validate_loaded(df, reloaded_pq))\n",
    "except RuntimeError as e:\n",
    "    print('Skipping Parquet util demo:', e)"
   ]
  },
  {
   "cell_type": "markdown",
   "id": "d92b3bb0",
   "metadata": {},
   "source": [
    "## 5) Documentation (TODO)\n",
    "- Update README with a **Data Storage** section (folders, formats, env usage).\n",
    "- Summarize validation checks and any assumptions."
   ]
  },
  {
   "cell_type": "code",
   "execution_count": null,
   "id": "8e6502c0-3454-40ae-95a3-f273e1f9c4dd",
   "metadata": {},
   "outputs": [],
   "source": []
  }
 ],
 "metadata": {
  "kernelspec": {
   "display_name": "Python 3 (ipykernel)",
   "language": "python",
   "name": "python3"
  },
  "language_info": {
   "codemirror_mode": {
    "name": "ipython",
    "version": 3
   },
   "file_extension": ".py",
   "mimetype": "text/x-python",
   "name": "python",
   "nbconvert_exporter": "python",
   "pygments_lexer": "ipython3",
   "version": "3.11.13"
  }
 },
 "nbformat": 4,
 "nbformat_minor": 5
}
