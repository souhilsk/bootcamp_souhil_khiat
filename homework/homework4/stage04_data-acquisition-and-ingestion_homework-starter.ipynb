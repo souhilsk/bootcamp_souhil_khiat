{
 "cells": [
  {
   "cell_type": "markdown",
   "id": "3a2f7623",
   "metadata": {},
   "source": [
    "# Homework Starter — Stage 04: Data Acquisition and Ingestion\n",
    "Name: \n",
    "Date: \n",
    "\n",
    "## Objectives\n",
    "- API ingestion with secrets in `.env`\n",
    "- Scrape a permitted public table\n",
    "- Validate and save raw data to `data/raw/`"
   ]
  },
  {
   "cell_type": "code",
   "execution_count": 24,
   "id": "bf585417",
   "metadata": {},
   "outputs": [
    {
     "name": "stdout",
     "output_type": "stream",
     "text": [
      "ALPHAVANTAGE_API_KEY loaded? False\n"
     ]
    }
   ],
   "source": [
    "import os, pathlib, datetime as dt\n",
    "import requests\n",
    "import pandas as pd\n",
    "from bs4 import BeautifulSoup\n",
    "from dotenv import load_dotenv\n",
    "\n",
    "RAW = pathlib.Path('data/raw'); RAW.mkdir(parents=True, exist_ok=True)\n",
    "load_dotenv(); print('ALPHAVANTAGE_API_KEY loaded?', bool(os.getenv('ALPHAVANTAGE_API_KEY')))"
   ]
  },
  {
   "cell_type": "markdown",
   "id": "c750c276",
   "metadata": {},
   "source": [
    "## Helpers (use or modify)"
   ]
  },
  {
   "cell_type": "code",
   "execution_count": 25,
   "id": "513f73b5",
   "metadata": {},
   "outputs": [],
   "source": [
    "def ts():\n",
    "    return dt.datetime.now().strftime('%Y%m%d-%H%M%S')\n",
    "\n",
    "def save_csv(df: pd.DataFrame, prefix: str, **meta):\n",
    "    mid = '_'.join([f\"{k}-{v}\" for k,v in meta.items()])\n",
    "    path = RAW / f\"{prefix}_{mid}_{ts()}.csv\"\n",
    "    df.to_csv(path, index=False)\n",
    "    print('Saved', path)\n",
    "    return path\n",
    "\n",
    "def validate(df: pd.DataFrame, required):\n",
    "    missing = [c for c in required if c not in df.columns]\n",
    "    return {'missing': missing, 'shape': df.shape, 'na_total': int(df.isna().sum().sum())}"
   ]
  },
  {
   "cell_type": "markdown",
   "id": "13fef6bd",
   "metadata": {},
   "source": [
    "## Part 1 — API Pull (Required)\n",
    "Choose an endpoint (e.g., Alpha Vantage or use `yfinance` fallback)."
   ]
  },
  {
   "cell_type": "code",
   "execution_count": 26,
   "id": "21f9af05",
   "metadata": {},
   "outputs": [
    {
     "name": "stderr",
     "output_type": "stream",
     "text": [
      "/var/folders/k1/vzsy4xf171nbt2_gwhj1_w4m0000gn/T/ipykernel_15464/2636107118.py:4: FutureWarning: YF.download() has changed argument auto_adjust default to True\n",
      "  df_api = yf.download(SYMBOL, period='3mo', interval='1d').reset_index()[['Date','Close']]\n",
      "[*********************100%***********************]  1 of 1 completed\n"
     ]
    },
    {
     "data": {
      "text/plain": [
       "{'missing': [], 'shape': (63, 2), 'na_total': 0}"
      ]
     },
     "execution_count": 26,
     "metadata": {},
     "output_type": "execute_result"
    }
   ],
   "source": [
    "SYMBOL = 'AAPL'\n",
    "USE_ALPHA = bool(os.getenv('ALPHAVANTAGE_API_KEY'))\n",
    "import yfinance as yf\n",
    "df_api = yf.download(SYMBOL, period='3mo', interval='1d').reset_index()[['Date','Close']]\n",
    "df_api.columns = ['date','adj_close']\n",
    "\n",
    "v_api = validate(df_api, ['date','adj_close']); v_api"
   ]
  },
  {
   "cell_type": "code",
   "execution_count": 27,
   "id": "5819950e",
   "metadata": {},
   "outputs": [
    {
     "name": "stdout",
     "output_type": "stream",
     "text": [
      "Saved data/raw/api_source-yfinance_symbol-AAPL_20250820-174747.csv\n"
     ]
    }
   ],
   "source": [
    "_ = save_csv(df_api.sort_values('date'), prefix='api', source='alpha' if USE_ALPHA else 'yfinance', symbol=SYMBOL)"
   ]
  },
  {
   "cell_type": "markdown",
   "id": "b0b72117",
   "metadata": {},
   "source": [
    "## Part 2 — Scrape a Public Table (Required)\n",
    "Replace `SCRAPE_URL` with a permitted page containing a simple table."
   ]
  },
  {
   "cell_type": "code",
   "execution_count": 28,
   "id": "e658d6e5",
   "metadata": {},
   "outputs": [
    {
     "data": {
      "text/plain": [
       "{'missing': [], 'shape': (880, 8), 'na_total': 758}"
      ]
     },
     "execution_count": 28,
     "metadata": {},
     "output_type": "execute_result"
    }
   ],
   "source": [
    "SCRAPE_URL = 'https://en.wikipedia.org/wiki/List_of_S%26P_500_companies'  # TODO: replace with permitted page\n",
    "headers = {'User-Agent':'AFE-Homework/1.0'}\n",
    "try:\n",
    "    resp = requests.get(SCRAPE_URL, headers=headers, timeout=30); resp.raise_for_status()\n",
    "    soup = BeautifulSoup(resp.text, 'html.parser')\n",
    "    rows = [[c.get_text(strip=True) for c in tr.find_all(['th','td'])] for tr in soup.find_all('tr')]\n",
    "    header, *data = [r for r in rows if r]\n",
    "    df_scrape = pd.DataFrame(data, columns=header)\n",
    "except Exception as e:\n",
    "    print('Scrape failed, using inline demo table:', e)\n",
    "    html = '<table><tr><th>Ticker</th><th>Price</th></tr><tr><td>AAA</td><td>101.2</td></tr></table>'\n",
    "    soup = BeautifulSoup(html, 'html.parser')\n",
    "    rows = [[c.get_text(strip=True) for c in tr.find_all(['th','td'])] for tr in soup.find_all('tr')]\n",
    "    header, *data = [r for r in rows if r]\n",
    "    df_scrape = pd.DataFrame(data, columns=header)\n",
    "\n",
    "if 'Price' in df_scrape.columns:\n",
    "    df_scrape['Price'] = pd.to_numeric(df_scrape['Price'], errors='coerce')\n",
    "v_scrape = validate(df_scrape, list(df_scrape.columns)); v_scrape"
   ]
  },
  {
   "cell_type": "code",
   "execution_count": 29,
   "id": "8690735d",
   "metadata": {},
   "outputs": [
    {
     "name": "stdout",
     "output_type": "stream",
     "text": [
      "Saved data/raw/scrape_site-wikipedia_table-sp500_20250820-174748.csv\n"
     ]
    }
   ],
   "source": [
    "_ = save_csv(df_scrape, prefix='scrape', site='wikipedia', table='sp500')"
   ]
  },
  {
   "cell_type": "markdown",
   "id": "ca937bc4",
   "metadata": {},
   "source": [
    "## Documentation — Stage 04 (Data Acquisition & Ingestion)\n",
    "\n",
    "**API Source & Params**  \n",
    "- Source: `yfinance.download()` (fallback used because `ALPHAVANTAGE_API_KEY` was not set).  \n",
    "- Params used: `symbol=\"AAPL\"`, `period=\"3mo\"`, `interval=\"1d\"`.  \n",
    "- Note: `yfinance` downloaded daily bars successfully in this run.\n",
    "\n",
    "**API Output (Saved)**  \n",
    "- Pattern: `data/raw/api_source=yfinance_symbol=AAPL_<YYYYMMDD-HHMMSS>.csv`  \n",
    "- Example from this run: see the printed path in the cell output.\n",
    "\n",
    "**Scrape Source**  \n",
    "- URL: `https://en.wikipedia.org/wiki/List_of_S%26P_500_companies`  \n",
    "- Parse method: BeautifulSoup (`html.parser`) with generic row extraction over `<tr>/<th>/<td>`.  \n",
    "- Fallback: if request/parse fails, a tiny inline demo table (`AAA`, `101.2`) is used so the pipeline still demonstrates saving/validation.\n",
    "\n",
    "**Scrape Output (Saved)**  \n",
    "- Pattern (per current `save_csv()` call): `data/raw/scrape_site-wikipedia_table-sp500_<YYYYMMDD-HHMMSS>.csv`  \n",
    "\n",
    "**Validation Logic**  \n",
    "- Function: `validate(df, required_cols)` reports:\n",
    "  - `missing` → any required columns absent,\n",
    "  - `shape` → `(rows, cols)`,\n",
    "  - `na_total` → total missing values in the DataFrame.\n",
    "- API check: validated presence of the date/price columns used in this run (e.g., `date`, `adj_close` / `close`) and confirmed `na_total` reported by the helper.  \n",
    "- Scrape check: validated against the columns returned by the parsed table (or by the inline demo on fallback).\n",
    "\n",
    "**Assumptions & Risks**  \n",
    "- API: possible throttling/changes on provider side; holiday/weekend gaps in daily bars.  \n",
    "- Scrape: Wikipedia schema/HTML can change (selector fragility); generic `<tr>/<td>` parsing may include header or footnote rows; network failures handled by inline fallback.\n",
    "\n",
    "**.env & Repro Notes**  \n",
    "- `.env` is present locally and not committed (verified with `git check-ignore -v .env`).  \n",
    "- Reproduce: create env, install requirements, run notebook top-to-bottom; outputs appear under `data/raw/` with a fresh timestamp in the filenames.\n"
   ]
  },
  {
   "cell_type": "code",
   "execution_count": null,
   "id": "1ea89ec3-c813-4f22-ba16-e76a1125c37d",
   "metadata": {},
   "outputs": [],
   "source": []
  }
 ],
 "metadata": {
  "kernelspec": {
   "display_name": "Python 3 (ipykernel)",
   "language": "python",
   "name": "python3"
  },
  "language_info": {
   "codemirror_mode": {
    "name": "ipython",
    "version": 3
   },
   "file_extension": ".py",
   "mimetype": "text/x-python",
   "name": "python",
   "nbconvert_exporter": "python",
   "pygments_lexer": "ipython3",
   "version": "3.11.13"
  }
 },
 "nbformat": 4,
 "nbformat_minor": 5
}
